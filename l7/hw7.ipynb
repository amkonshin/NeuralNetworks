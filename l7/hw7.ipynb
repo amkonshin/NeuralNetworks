{
 "cells": [
  {
   "cell_type": "markdown",
   "metadata": {},
   "source": [
    "#### Region-based Fully Convolutional Networks (R-FCN)"
   ]
  },
  {
   "cell_type": "markdown",
   "metadata": {},
   "source": [
    "R-FCN принадлежит семейству two stage detectors. Пайплайн R-FCN можно разделить на две части:  первая — найти области на картинке, которые соответствуют объектам, а вторая — провести классификацию для каждой области, чтобы определить какой именно объект там содержится. \n",
    "В чем отличие от Fast-RCNN, Faster-RСNN? Авторы  применили в сети R-FCN только сверточные слои, что позволило успешно проводить обратное распространение ошибки.  Они объеденили два основных шага в одну модель ,которая сразу проводит детектирвоание и позиционирование объектов. Ключевая идея выглядит следующим образом: С помощью FCN создается карта признаков position-sensitive score maps, потом берутся ROI и производится пулинг. ТАким образом, сеть рабоатет быстрее, чем Fast-RCNN, Faster-RСNN. Но в то же время, из-за сложных вычислений, у сети созраняются те же недостатки, что и у всего семейства: низкая скорость, тяжелые расчеты и , как следствие, тяжело использовать в продакшене. \n"
   ]
  }
 ],
 "metadata": {
  "kernelspec": {
   "display_name": "Python 3",
   "language": "python",
   "name": "python3"
  },
  "language_info": {
   "codemirror_mode": {
    "name": "ipython",
    "version": 3
   },
   "file_extension": ".py",
   "mimetype": "text/x-python",
   "name": "python",
   "nbconvert_exporter": "python",
   "pygments_lexer": "ipython3",
   "version": "3.7.4"
  }
 },
 "nbformat": 4,
 "nbformat_minor": 2
}
