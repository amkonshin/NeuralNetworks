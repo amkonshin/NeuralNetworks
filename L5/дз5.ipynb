{
  "nbformat": 4,
  "nbformat_minor": 0,
  "metadata": {
    "colab": {
      "name": "Временные ряды RNN.ipynb",
      "provenance": [],
      "collapsed_sections": []
    },
    "kernelspec": {
      "name": "python3",
      "display_name": "Python 3"
    },
    "accelerator": "GPU"
  },
  "cells": [
    {
      "cell_type": "code",
      "metadata": {
        "id": "IOX9KcxcbMNB",
        "colab_type": "code",
        "colab": {}
      },
      "source": [
        "# Рисовать графики сразу же\n",
        "%matplotlib inline\n",
        "\n",
        "import pandas as pd\n",
        "import matplotlib.pyplot as plt\n",
        "from tensorflow.keras import utils\n",
        "import numpy as np\n",
        "import tensorflow.keras as keras\n",
        "from tensorflow.keras.optimizers import Adam\n",
        "from tensorflow.keras.models import Sequential, Model\n",
        "from tensorflow.keras.layers import concatenate, Input, Dense, Dropout, BatchNormalization, Flatten, Conv1D, Conv2D, LSTM\n",
        "\n",
        "from google.colab import files\n",
        "from sklearn.preprocessing import StandardScaler, MinMaxScaler"
      ],
      "execution_count": 1,
      "outputs": []
    },
    {
      "cell_type": "code",
      "metadata": {
        "id": "TvWj5CfUPq7i",
        "colab_type": "code",
        "colab": {}
      },
      "source": [
        "from tensorflow.keras.callbacks import EarlyStopping"
      ],
      "execution_count": 2,
      "outputs": []
    },
    {
      "cell_type": "markdown",
      "metadata": {
        "id": "U6Of5-M3nxnM",
        "colab_type": "text"
      },
      "source": [
        "Читаем данные из файла со значениями потребления энергии\n",
        "\n"
      ]
    },
    {
      "cell_type": "code",
      "metadata": {
        "id": "SitUOKtnn_-v",
        "colab_type": "code",
        "colab": {}
      },
      "source": [
        ""
      ],
      "execution_count": null,
      "outputs": []
    },
    {
      "cell_type": "code",
      "metadata": {
        "id": "YVyA-Lf-blzj",
        "colab_type": "code",
        "colab": {
          "resources": {
            "http://localhost:8080/nbextensions/google.colab/files.js": {
              "data": "Ly8gQ29weXJpZ2h0IDIwMTcgR29vZ2xlIExMQwovLwovLyBMaWNlbnNlZCB1bmRlciB0aGUgQXBhY2hlIExpY2Vuc2UsIFZlcnNpb24gMi4wICh0aGUgIkxpY2Vuc2UiKTsKLy8geW91IG1heSBub3QgdXNlIHRoaXMgZmlsZSBleGNlcHQgaW4gY29tcGxpYW5jZSB3aXRoIHRoZSBMaWNlbnNlLgovLyBZb3UgbWF5IG9idGFpbiBhIGNvcHkgb2YgdGhlIExpY2Vuc2UgYXQKLy8KLy8gICAgICBodHRwOi8vd3d3LmFwYWNoZS5vcmcvbGljZW5zZXMvTElDRU5TRS0yLjAKLy8KLy8gVW5sZXNzIHJlcXVpcmVkIGJ5IGFwcGxpY2FibGUgbGF3IG9yIGFncmVlZCB0byBpbiB3cml0aW5nLCBzb2Z0d2FyZQovLyBkaXN0cmlidXRlZCB1bmRlciB0aGUgTGljZW5zZSBpcyBkaXN0cmlidXRlZCBvbiBhbiAiQVMgSVMiIEJBU0lTLAovLyBXSVRIT1VUIFdBUlJBTlRJRVMgT1IgQ09ORElUSU9OUyBPRiBBTlkgS0lORCwgZWl0aGVyIGV4cHJlc3Mgb3IgaW1wbGllZC4KLy8gU2VlIHRoZSBMaWNlbnNlIGZvciB0aGUgc3BlY2lmaWMgbGFuZ3VhZ2UgZ292ZXJuaW5nIHBlcm1pc3Npb25zIGFuZAovLyBsaW1pdGF0aW9ucyB1bmRlciB0aGUgTGljZW5zZS4KCi8qKgogKiBAZmlsZW92ZXJ2aWV3IEhlbHBlcnMgZm9yIGdvb2dsZS5jb2xhYiBQeXRob24gbW9kdWxlLgogKi8KKGZ1bmN0aW9uKHNjb3BlKSB7CmZ1bmN0aW9uIHNwYW4odGV4dCwgc3R5bGVBdHRyaWJ1dGVzID0ge30pIHsKICBjb25zdCBlbGVtZW50ID0gZG9jdW1lbnQuY3JlYXRlRWxlbWVudCgnc3BhbicpOwogIGVsZW1lbnQudGV4dENvbnRlbnQgPSB0ZXh0OwogIGZvciAoY29uc3Qga2V5IG9mIE9iamVjdC5rZXlzKHN0eWxlQXR0cmlidXRlcykpIHsKICAgIGVsZW1lbnQuc3R5bGVba2V5XSA9IHN0eWxlQXR0cmlidXRlc1trZXldOwogIH0KICByZXR1cm4gZWxlbWVudDsKfQoKLy8gTWF4IG51bWJlciBvZiBieXRlcyB3aGljaCB3aWxsIGJlIHVwbG9hZGVkIGF0IGEgdGltZS4KY29uc3QgTUFYX1BBWUxPQURfU0laRSA9IDEwMCAqIDEwMjQ7CgpmdW5jdGlvbiBfdXBsb2FkRmlsZXMoaW5wdXRJZCwgb3V0cHV0SWQpIHsKICBjb25zdCBzdGVwcyA9IHVwbG9hZEZpbGVzU3RlcChpbnB1dElkLCBvdXRwdXRJZCk7CiAgY29uc3Qgb3V0cHV0RWxlbWVudCA9IGRvY3VtZW50LmdldEVsZW1lbnRCeUlkKG91dHB1dElkKTsKICAvLyBDYWNoZSBzdGVwcyBvbiB0aGUgb3V0cHV0RWxlbWVudCB0byBtYWtlIGl0IGF2YWlsYWJsZSBmb3IgdGhlIG5leHQgY2FsbAogIC8vIHRvIHVwbG9hZEZpbGVzQ29udGludWUgZnJvbSBQeXRob24uCiAgb3V0cHV0RWxlbWVudC5zdGVwcyA9IHN0ZXBzOwoKICByZXR1cm4gX3VwbG9hZEZpbGVzQ29udGludWUob3V0cHV0SWQpOwp9CgovLyBUaGlzIGlzIHJvdWdobHkgYW4gYXN5bmMgZ2VuZXJhdG9yIChub3Qgc3VwcG9ydGVkIGluIHRoZSBicm93c2VyIHlldCksCi8vIHdoZXJlIHRoZXJlIGFyZSBtdWx0aXBsZSBhc3luY2hyb25vdXMgc3RlcHMgYW5kIHRoZSBQeXRob24gc2lkZSBpcyBnb2luZwovLyB0byBwb2xsIGZvciBjb21wbGV0aW9uIG9mIGVhY2ggc3RlcC4KLy8gVGhpcyB1c2VzIGEgUHJvbWlzZSB0byBibG9jayB0aGUgcHl0aG9uIHNpZGUgb24gY29tcGxldGlvbiBvZiBlYWNoIHN0ZXAsCi8vIHRoZW4gcGFzc2VzIHRoZSByZXN1bHQgb2YgdGhlIHByZXZpb3VzIHN0ZXAgYXMgdGhlIGlucHV0IHRvIHRoZSBuZXh0IHN0ZXAuCmZ1bmN0aW9uIF91cGxvYWRGaWxlc0NvbnRpbnVlKG91dHB1dElkKSB7CiAgY29uc3Qgb3V0cHV0RWxlbWVudCA9IGRvY3VtZW50LmdldEVsZW1lbnRCeUlkKG91dHB1dElkKTsKICBjb25zdCBzdGVwcyA9IG91dHB1dEVsZW1lbnQuc3RlcHM7CgogIGNvbnN0IG5leHQgPSBzdGVwcy5uZXh0KG91dHB1dEVsZW1lbnQubGFzdFByb21pc2VWYWx1ZSk7CiAgcmV0dXJuIFByb21pc2UucmVzb2x2ZShuZXh0LnZhbHVlLnByb21pc2UpLnRoZW4oKHZhbHVlKSA9PiB7CiAgICAvLyBDYWNoZSB0aGUgbGFzdCBwcm9taXNlIHZhbHVlIHRvIG1ha2UgaXQgYXZhaWxhYmxlIHRvIHRoZSBuZXh0CiAgICAvLyBzdGVwIG9mIHRoZSBnZW5lcmF0b3IuCiAgICBvdXRwdXRFbGVtZW50Lmxhc3RQcm9taXNlVmFsdWUgPSB2YWx1ZTsKICAgIHJldHVybiBuZXh0LnZhbHVlLnJlc3BvbnNlOwogIH0pOwp9CgovKioKICogR2VuZXJhdG9yIGZ1bmN0aW9uIHdoaWNoIGlzIGNhbGxlZCBiZXR3ZWVuIGVhY2ggYXN5bmMgc3RlcCBvZiB0aGUgdXBsb2FkCiAqIHByb2Nlc3MuCiAqIEBwYXJhbSB7c3RyaW5nfSBpbnB1dElkIEVsZW1lbnQgSUQgb2YgdGhlIGlucHV0IGZpbGUgcGlja2VyIGVsZW1lbnQuCiAqIEBwYXJhbSB7c3RyaW5nfSBvdXRwdXRJZCBFbGVtZW50IElEIG9mIHRoZSBvdXRwdXQgZGlzcGxheS4KICogQHJldHVybiB7IUl0ZXJhYmxlPCFPYmplY3Q+fSBJdGVyYWJsZSBvZiBuZXh0IHN0ZXBzLgogKi8KZnVuY3Rpb24qIHVwbG9hZEZpbGVzU3RlcChpbnB1dElkLCBvdXRwdXRJZCkgewogIGNvbnN0IGlucHV0RWxlbWVudCA9IGRvY3VtZW50LmdldEVsZW1lbnRCeUlkKGlucHV0SWQpOwogIGlucHV0RWxlbWVudC5kaXNhYmxlZCA9IGZhbHNlOwoKICBjb25zdCBvdXRwdXRFbGVtZW50ID0gZG9jdW1lbnQuZ2V0RWxlbWVudEJ5SWQob3V0cHV0SWQpOwogIG91dHB1dEVsZW1lbnQuaW5uZXJIVE1MID0gJyc7CgogIGNvbnN0IHBpY2tlZFByb21pc2UgPSBuZXcgUHJvbWlzZSgocmVzb2x2ZSkgPT4gewogICAgaW5wdXRFbGVtZW50LmFkZEV2ZW50TGlzdGVuZXIoJ2NoYW5nZScsIChlKSA9PiB7CiAgICAgIHJlc29sdmUoZS50YXJnZXQuZmlsZXMpOwogICAgfSk7CiAgfSk7CgogIGNvbnN0IGNhbmNlbCA9IGRvY3VtZW50LmNyZWF0ZUVsZW1lbnQoJ2J1dHRvbicpOwogIGlucHV0RWxlbWVudC5wYXJlbnRFbGVtZW50LmFwcGVuZENoaWxkKGNhbmNlbCk7CiAgY2FuY2VsLnRleHRDb250ZW50ID0gJ0NhbmNlbCB1cGxvYWQnOwogIGNvbnN0IGNhbmNlbFByb21pc2UgPSBuZXcgUHJvbWlzZSgocmVzb2x2ZSkgPT4gewogICAgY2FuY2VsLm9uY2xpY2sgPSAoKSA9PiB7CiAgICAgIHJlc29sdmUobnVsbCk7CiAgICB9OwogIH0pOwoKICAvLyBXYWl0IGZvciB0aGUgdXNlciB0byBwaWNrIHRoZSBmaWxlcy4KICBjb25zdCBmaWxlcyA9IHlpZWxkIHsKICAgIHByb21pc2U6IFByb21pc2UucmFjZShbcGlja2VkUHJvbWlzZSwgY2FuY2VsUHJvbWlzZV0pLAogICAgcmVzcG9uc2U6IHsKICAgICAgYWN0aW9uOiAnc3RhcnRpbmcnLAogICAgfQogIH07CgogIGNhbmNlbC5yZW1vdmUoKTsKCiAgLy8gRGlzYWJsZSB0aGUgaW5wdXQgZWxlbWVudCBzaW5jZSBmdXJ0aGVyIHBpY2tzIGFyZSBub3QgYWxsb3dlZC4KICBpbnB1dEVsZW1lbnQuZGlzYWJsZWQgPSB0cnVlOwoKICBpZiAoIWZpbGVzKSB7CiAgICByZXR1cm4gewogICAgICByZXNwb25zZTogewogICAgICAgIGFjdGlvbjogJ2NvbXBsZXRlJywKICAgICAgfQogICAgfTsKICB9CgogIGZvciAoY29uc3QgZmlsZSBvZiBmaWxlcykgewogICAgY29uc3QgbGkgPSBkb2N1bWVudC5jcmVhdGVFbGVtZW50KCdsaScpOwogICAgbGkuYXBwZW5kKHNwYW4oZmlsZS5uYW1lLCB7Zm9udFdlaWdodDogJ2JvbGQnfSkpOwogICAgbGkuYXBwZW5kKHNwYW4oCiAgICAgICAgYCgke2ZpbGUudHlwZSB8fCAnbi9hJ30pIC0gJHtmaWxlLnNpemV9IGJ5dGVzLCBgICsKICAgICAgICBgbGFzdCBtb2RpZmllZDogJHsKICAgICAgICAgICAgZmlsZS5sYXN0TW9kaWZpZWREYXRlID8gZmlsZS5sYXN0TW9kaWZpZWREYXRlLnRvTG9jYWxlRGF0ZVN0cmluZygpIDoKICAgICAgICAgICAgICAgICAgICAgICAgICAgICAgICAgICAgJ24vYSd9IC0gYCkpOwogICAgY29uc3QgcGVyY2VudCA9IHNwYW4oJzAlIGRvbmUnKTsKICAgIGxpLmFwcGVuZENoaWxkKHBlcmNlbnQpOwoKICAgIG91dHB1dEVsZW1lbnQuYXBwZW5kQ2hpbGQobGkpOwoKICAgIGNvbnN0IGZpbGVEYXRhUHJvbWlzZSA9IG5ldyBQcm9taXNlKChyZXNvbHZlKSA9PiB7CiAgICAgIGNvbnN0IHJlYWRlciA9IG5ldyBGaWxlUmVhZGVyKCk7CiAgICAgIHJlYWRlci5vbmxvYWQgPSAoZSkgPT4gewogICAgICAgIHJlc29sdmUoZS50YXJnZXQucmVzdWx0KTsKICAgICAgfTsKICAgICAgcmVhZGVyLnJlYWRBc0FycmF5QnVmZmVyKGZpbGUpOwogICAgfSk7CiAgICAvLyBXYWl0IGZvciB0aGUgZGF0YSB0byBiZSByZWFkeS4KICAgIGxldCBmaWxlRGF0YSA9IHlpZWxkIHsKICAgICAgcHJvbWlzZTogZmlsZURhdGFQcm9taXNlLAogICAgICByZXNwb25zZTogewogICAgICAgIGFjdGlvbjogJ2NvbnRpbnVlJywKICAgICAgfQogICAgfTsKCiAgICAvLyBVc2UgYSBjaHVua2VkIHNlbmRpbmcgdG8gYXZvaWQgbWVzc2FnZSBzaXplIGxpbWl0cy4gU2VlIGIvNjIxMTU2NjAuCiAgICBsZXQgcG9zaXRpb24gPSAwOwogICAgd2hpbGUgKHBvc2l0aW9uIDwgZmlsZURhdGEuYnl0ZUxlbmd0aCkgewogICAgICBjb25zdCBsZW5ndGggPSBNYXRoLm1pbihmaWxlRGF0YS5ieXRlTGVuZ3RoIC0gcG9zaXRpb24sIE1BWF9QQVlMT0FEX1NJWkUpOwogICAgICBjb25zdCBjaHVuayA9IG5ldyBVaW50OEFycmF5KGZpbGVEYXRhLCBwb3NpdGlvbiwgbGVuZ3RoKTsKICAgICAgcG9zaXRpb24gKz0gbGVuZ3RoOwoKICAgICAgY29uc3QgYmFzZTY0ID0gYnRvYShTdHJpbmcuZnJvbUNoYXJDb2RlLmFwcGx5KG51bGwsIGNodW5rKSk7CiAgICAgIHlpZWxkIHsKICAgICAgICByZXNwb25zZTogewogICAgICAgICAgYWN0aW9uOiAnYXBwZW5kJywKICAgICAgICAgIGZpbGU6IGZpbGUubmFtZSwKICAgICAgICAgIGRhdGE6IGJhc2U2NCwKICAgICAgICB9LAogICAgICB9OwogICAgICBwZXJjZW50LnRleHRDb250ZW50ID0KICAgICAgICAgIGAke01hdGgucm91bmQoKHBvc2l0aW9uIC8gZmlsZURhdGEuYnl0ZUxlbmd0aCkgKiAxMDApfSUgZG9uZWA7CiAgICB9CiAgfQoKICAvLyBBbGwgZG9uZS4KICB5aWVsZCB7CiAgICByZXNwb25zZTogewogICAgICBhY3Rpb246ICdjb21wbGV0ZScsCiAgICB9CiAgfTsKfQoKc2NvcGUuZ29vZ2xlID0gc2NvcGUuZ29vZ2xlIHx8IHt9OwpzY29wZS5nb29nbGUuY29sYWIgPSBzY29wZS5nb29nbGUuY29sYWIgfHwge307CnNjb3BlLmdvb2dsZS5jb2xhYi5fZmlsZXMgPSB7CiAgX3VwbG9hZEZpbGVzLAogIF91cGxvYWRGaWxlc0NvbnRpbnVlLAp9Owp9KShzZWxmKTsK",
              "ok": true,
              "headers": [
                [
                  "content-type",
                  "application/javascript"
                ]
              ],
              "status": 200,
              "status_text": ""
            }
          },
          "base_uri": "https://localhost:8080/",
          "height": 89
        },
        "outputId": "924a2d94-523d-4376-a141-bd94ffc55ad6"
      },
      "source": [
        "files.upload()\n",
        "!ls"
      ],
      "execution_count": 3,
      "outputs": [
        {
          "output_type": "display_data",
          "data": {
            "text/html": [
              "\n",
              "     <input type=\"file\" id=\"files-66cf2f91-7983-4f9f-95da-40a99e0337a3\" name=\"files[]\" multiple disabled\n",
              "        style=\"border:none\" />\n",
              "     <output id=\"result-66cf2f91-7983-4f9f-95da-40a99e0337a3\">\n",
              "      Upload widget is only available when the cell has been executed in the\n",
              "      current browser session. Please rerun this cell to enable.\n",
              "      </output>\n",
              "      <script src=\"/nbextensions/google.colab/files.js\"></script> "
            ],
            "text/plain": [
              "<IPython.core.display.HTML object>"
            ]
          },
          "metadata": {
            "tags": []
          }
        },
        {
          "output_type": "stream",
          "text": [
            "Saving my_PJME_MW.csv to my_PJME_MW.csv\n",
            "my_PJME_MW.csv\tsample_data\n"
          ],
          "name": "stdout"
        }
      ]
    },
    {
      "cell_type": "code",
      "metadata": {
        "id": "FbOkFf_7cgWa",
        "colab_type": "code",
        "colab": {}
      },
      "source": [
        "df = pd.read_csv('my_PJME_MW.csv')\n"
      ],
      "execution_count": 10,
      "outputs": []
    },
    {
      "cell_type": "code",
      "metadata": {
        "id": "KmWwmNFkzN9f",
        "colab_type": "code",
        "colab": {
          "base_uri": "https://localhost:8080/",
          "height": 204
        },
        "outputId": "a4fc3546-f1f0-41c7-d3d9-3360554ba053"
      },
      "source": [
        "df.head()"
      ],
      "execution_count": 15,
      "outputs": [
        {
          "output_type": "execute_result",
          "data": {
            "text/html": [
              "<div>\n",
              "<style scoped>\n",
              "    .dataframe tbody tr th:only-of-type {\n",
              "        vertical-align: middle;\n",
              "    }\n",
              "\n",
              "    .dataframe tbody tr th {\n",
              "        vertical-align: top;\n",
              "    }\n",
              "\n",
              "    .dataframe thead th {\n",
              "        text-align: right;\n",
              "    }\n",
              "</style>\n",
              "<table border=\"1\" class=\"dataframe\">\n",
              "  <thead>\n",
              "    <tr style=\"text-align: right;\">\n",
              "      <th></th>\n",
              "      <th>Date</th>\n",
              "      <th>Time</th>\n",
              "      <th>PJME_MW</th>\n",
              "      <th>year</th>\n",
              "      <th>month</th>\n",
              "      <th>dayofmonth</th>\n",
              "      <th>quarter</th>\n",
              "      <th>dayofyear</th>\n",
              "      <th>weekofyear</th>\n",
              "      <th>dayofweek</th>\n",
              "      <th>hour</th>\n",
              "      <th>is_holiday</th>\n",
              "      <th>is_prev_holiday</th>\n",
              "      <th>is_next_holiday</th>\n",
              "    </tr>\n",
              "  </thead>\n",
              "  <tbody>\n",
              "    <tr>\n",
              "      <th>0</th>\n",
              "      <td>2002-01-01</td>\n",
              "      <td>01:00:00</td>\n",
              "      <td>30393.0</td>\n",
              "      <td>2002</td>\n",
              "      <td>1</td>\n",
              "      <td>1</td>\n",
              "      <td>1</td>\n",
              "      <td>1</td>\n",
              "      <td>1</td>\n",
              "      <td>1</td>\n",
              "      <td>1</td>\n",
              "      <td>1</td>\n",
              "      <td>0</td>\n",
              "      <td>0</td>\n",
              "    </tr>\n",
              "    <tr>\n",
              "      <th>1</th>\n",
              "      <td>2002-01-01</td>\n",
              "      <td>02:00:00</td>\n",
              "      <td>29265.0</td>\n",
              "      <td>2002</td>\n",
              "      <td>1</td>\n",
              "      <td>1</td>\n",
              "      <td>1</td>\n",
              "      <td>1</td>\n",
              "      <td>1</td>\n",
              "      <td>1</td>\n",
              "      <td>2</td>\n",
              "      <td>1</td>\n",
              "      <td>0</td>\n",
              "      <td>0</td>\n",
              "    </tr>\n",
              "    <tr>\n",
              "      <th>2</th>\n",
              "      <td>2002-01-01</td>\n",
              "      <td>03:00:00</td>\n",
              "      <td>28357.0</td>\n",
              "      <td>2002</td>\n",
              "      <td>1</td>\n",
              "      <td>1</td>\n",
              "      <td>1</td>\n",
              "      <td>1</td>\n",
              "      <td>1</td>\n",
              "      <td>1</td>\n",
              "      <td>3</td>\n",
              "      <td>1</td>\n",
              "      <td>0</td>\n",
              "      <td>0</td>\n",
              "    </tr>\n",
              "    <tr>\n",
              "      <th>3</th>\n",
              "      <td>2002-01-01</td>\n",
              "      <td>04:00:00</td>\n",
              "      <td>27899.0</td>\n",
              "      <td>2002</td>\n",
              "      <td>1</td>\n",
              "      <td>1</td>\n",
              "      <td>1</td>\n",
              "      <td>1</td>\n",
              "      <td>1</td>\n",
              "      <td>1</td>\n",
              "      <td>4</td>\n",
              "      <td>1</td>\n",
              "      <td>0</td>\n",
              "      <td>0</td>\n",
              "    </tr>\n",
              "    <tr>\n",
              "      <th>4</th>\n",
              "      <td>2002-01-01</td>\n",
              "      <td>05:00:00</td>\n",
              "      <td>28057.0</td>\n",
              "      <td>2002</td>\n",
              "      <td>1</td>\n",
              "      <td>1</td>\n",
              "      <td>1</td>\n",
              "      <td>1</td>\n",
              "      <td>1</td>\n",
              "      <td>1</td>\n",
              "      <td>5</td>\n",
              "      <td>1</td>\n",
              "      <td>0</td>\n",
              "      <td>0</td>\n",
              "    </tr>\n",
              "  </tbody>\n",
              "</table>\n",
              "</div>"
            ],
            "text/plain": [
              "         Date      Time  PJME_MW  ...  is_holiday  is_prev_holiday  is_next_holiday\n",
              "0  2002-01-01  01:00:00  30393.0  ...           1                0                0\n",
              "1  2002-01-01  02:00:00  29265.0  ...           1                0                0\n",
              "2  2002-01-01  03:00:00  28357.0  ...           1                0                0\n",
              "3  2002-01-01  04:00:00  27899.0  ...           1                0                0\n",
              "4  2002-01-01  05:00:00  28057.0  ...           1                0                0\n",
              "\n",
              "[5 rows x 14 columns]"
            ]
          },
          "metadata": {
            "tags": []
          },
          "execution_count": 15
        }
      ]
    },
    {
      "cell_type": "code",
      "metadata": {
        "id": "6cwJqFy2_EYL",
        "colab_type": "code",
        "colab": {}
      },
      "source": [
        "data = df.iloc[120000:,2:]"
      ],
      "execution_count": 44,
      "outputs": []
    },
    {
      "cell_type": "code",
      "metadata": {
        "id": "yAtbNYgLD5qz",
        "colab_type": "code",
        "colab": {
          "base_uri": "https://localhost:8080/",
          "height": 419
        },
        "outputId": "00eedfb8-b235-41a2-b9ec-d022cad5ba00"
      },
      "source": [
        "data"
      ],
      "execution_count": 45,
      "outputs": [
        {
          "output_type": "execute_result",
          "data": {
            "text/html": [
              "<div>\n",
              "<style scoped>\n",
              "    .dataframe tbody tr th:only-of-type {\n",
              "        vertical-align: middle;\n",
              "    }\n",
              "\n",
              "    .dataframe tbody tr th {\n",
              "        vertical-align: top;\n",
              "    }\n",
              "\n",
              "    .dataframe thead th {\n",
              "        text-align: right;\n",
              "    }\n",
              "</style>\n",
              "<table border=\"1\" class=\"dataframe\">\n",
              "  <thead>\n",
              "    <tr style=\"text-align: right;\">\n",
              "      <th></th>\n",
              "      <th>PJME_MW</th>\n",
              "      <th>year</th>\n",
              "      <th>month</th>\n",
              "      <th>dayofmonth</th>\n",
              "      <th>quarter</th>\n",
              "      <th>dayofyear</th>\n",
              "      <th>weekofyear</th>\n",
              "      <th>dayofweek</th>\n",
              "      <th>hour</th>\n",
              "      <th>is_holiday</th>\n",
              "      <th>is_prev_holiday</th>\n",
              "      <th>is_next_holiday</th>\n",
              "    </tr>\n",
              "  </thead>\n",
              "  <tbody>\n",
              "    <tr>\n",
              "      <th>120000</th>\n",
              "      <td>30212.0</td>\n",
              "      <td>2015</td>\n",
              "      <td>9</td>\n",
              "      <td>11</td>\n",
              "      <td>3</td>\n",
              "      <td>254</td>\n",
              "      <td>37</td>\n",
              "      <td>4</td>\n",
              "      <td>0</td>\n",
              "      <td>0</td>\n",
              "      <td>0</td>\n",
              "      <td>0</td>\n",
              "    </tr>\n",
              "    <tr>\n",
              "      <th>120001</th>\n",
              "      <td>27951.0</td>\n",
              "      <td>2015</td>\n",
              "      <td>9</td>\n",
              "      <td>11</td>\n",
              "      <td>3</td>\n",
              "      <td>254</td>\n",
              "      <td>37</td>\n",
              "      <td>4</td>\n",
              "      <td>1</td>\n",
              "      <td>0</td>\n",
              "      <td>0</td>\n",
              "      <td>0</td>\n",
              "    </tr>\n",
              "    <tr>\n",
              "      <th>120002</th>\n",
              "      <td>26455.0</td>\n",
              "      <td>2015</td>\n",
              "      <td>9</td>\n",
              "      <td>11</td>\n",
              "      <td>3</td>\n",
              "      <td>254</td>\n",
              "      <td>37</td>\n",
              "      <td>4</td>\n",
              "      <td>2</td>\n",
              "      <td>0</td>\n",
              "      <td>0</td>\n",
              "      <td>0</td>\n",
              "    </tr>\n",
              "    <tr>\n",
              "      <th>120003</th>\n",
              "      <td>25563.0</td>\n",
              "      <td>2015</td>\n",
              "      <td>9</td>\n",
              "      <td>11</td>\n",
              "      <td>3</td>\n",
              "      <td>254</td>\n",
              "      <td>37</td>\n",
              "      <td>4</td>\n",
              "      <td>3</td>\n",
              "      <td>0</td>\n",
              "      <td>0</td>\n",
              "      <td>0</td>\n",
              "    </tr>\n",
              "    <tr>\n",
              "      <th>120004</th>\n",
              "      <td>25057.0</td>\n",
              "      <td>2015</td>\n",
              "      <td>9</td>\n",
              "      <td>11</td>\n",
              "      <td>3</td>\n",
              "      <td>254</td>\n",
              "      <td>37</td>\n",
              "      <td>4</td>\n",
              "      <td>4</td>\n",
              "      <td>0</td>\n",
              "      <td>0</td>\n",
              "      <td>0</td>\n",
              "    </tr>\n",
              "    <tr>\n",
              "      <th>...</th>\n",
              "      <td>...</td>\n",
              "      <td>...</td>\n",
              "      <td>...</td>\n",
              "      <td>...</td>\n",
              "      <td>...</td>\n",
              "      <td>...</td>\n",
              "      <td>...</td>\n",
              "      <td>...</td>\n",
              "      <td>...</td>\n",
              "      <td>...</td>\n",
              "      <td>...</td>\n",
              "      <td>...</td>\n",
              "    </tr>\n",
              "    <tr>\n",
              "      <th>145369</th>\n",
              "      <td>44057.0</td>\n",
              "      <td>2018</td>\n",
              "      <td>8</td>\n",
              "      <td>2</td>\n",
              "      <td>3</td>\n",
              "      <td>214</td>\n",
              "      <td>31</td>\n",
              "      <td>3</td>\n",
              "      <td>20</td>\n",
              "      <td>0</td>\n",
              "      <td>0</td>\n",
              "      <td>0</td>\n",
              "    </tr>\n",
              "    <tr>\n",
              "      <th>145370</th>\n",
              "      <td>43256.0</td>\n",
              "      <td>2018</td>\n",
              "      <td>8</td>\n",
              "      <td>2</td>\n",
              "      <td>3</td>\n",
              "      <td>214</td>\n",
              "      <td>31</td>\n",
              "      <td>3</td>\n",
              "      <td>21</td>\n",
              "      <td>0</td>\n",
              "      <td>0</td>\n",
              "      <td>0</td>\n",
              "    </tr>\n",
              "    <tr>\n",
              "      <th>145371</th>\n",
              "      <td>41552.0</td>\n",
              "      <td>2018</td>\n",
              "      <td>8</td>\n",
              "      <td>2</td>\n",
              "      <td>3</td>\n",
              "      <td>214</td>\n",
              "      <td>31</td>\n",
              "      <td>3</td>\n",
              "      <td>22</td>\n",
              "      <td>0</td>\n",
              "      <td>0</td>\n",
              "      <td>0</td>\n",
              "    </tr>\n",
              "    <tr>\n",
              "      <th>145372</th>\n",
              "      <td>38500.0</td>\n",
              "      <td>2018</td>\n",
              "      <td>8</td>\n",
              "      <td>2</td>\n",
              "      <td>3</td>\n",
              "      <td>214</td>\n",
              "      <td>31</td>\n",
              "      <td>3</td>\n",
              "      <td>23</td>\n",
              "      <td>0</td>\n",
              "      <td>0</td>\n",
              "      <td>0</td>\n",
              "    </tr>\n",
              "    <tr>\n",
              "      <th>145373</th>\n",
              "      <td>35486.0</td>\n",
              "      <td>2018</td>\n",
              "      <td>8</td>\n",
              "      <td>3</td>\n",
              "      <td>3</td>\n",
              "      <td>215</td>\n",
              "      <td>31</td>\n",
              "      <td>4</td>\n",
              "      <td>0</td>\n",
              "      <td>0</td>\n",
              "      <td>0</td>\n",
              "      <td>0</td>\n",
              "    </tr>\n",
              "  </tbody>\n",
              "</table>\n",
              "<p>25374 rows × 12 columns</p>\n",
              "</div>"
            ],
            "text/plain": [
              "        PJME_MW  year  month  ...  is_holiday  is_prev_holiday  is_next_holiday\n",
              "120000  30212.0  2015      9  ...           0                0                0\n",
              "120001  27951.0  2015      9  ...           0                0                0\n",
              "120002  26455.0  2015      9  ...           0                0                0\n",
              "120003  25563.0  2015      9  ...           0                0                0\n",
              "120004  25057.0  2015      9  ...           0                0                0\n",
              "...         ...   ...    ...  ...         ...              ...              ...\n",
              "145369  44057.0  2018      8  ...           0                0                0\n",
              "145370  43256.0  2018      8  ...           0                0                0\n",
              "145371  41552.0  2018      8  ...           0                0                0\n",
              "145372  38500.0  2018      8  ...           0                0                0\n",
              "145373  35486.0  2018      8  ...           0                0                0\n",
              "\n",
              "[25374 rows x 12 columns]"
            ]
          },
          "metadata": {
            "tags": []
          },
          "execution_count": 45
        }
      ]
    },
    {
      "cell_type": "code",
      "metadata": {
        "id": "ArFEd9l2b8vY",
        "colab_type": "code",
        "colab": {}
      },
      "source": [
        "def normalize(data, train_split):\n",
        "    data_mean = data[:train_split].mean(axis=0)\n",
        "    data_std = data[:train_split].std(axis=0)\n",
        "    return (data - data_mean) / data_std"
      ],
      "execution_count": 46,
      "outputs": []
    },
    {
      "cell_type": "code",
      "metadata": {
        "id": "msyvvpcKcOSg",
        "colab_type": "code",
        "colab": {}
      },
      "source": [
        "train_split = 21000\n",
        "data_v =  normalize(data.values, train_split)\n",
        "data_f = pd.DataFrame(data_v)"
      ],
      "execution_count": 47,
      "outputs": []
    },
    {
      "cell_type": "code",
      "metadata": {
        "id": "PA5Rbu7iZqw5",
        "colab_type": "code",
        "colab": {}
      },
      "source": [
        "# список признаков, по которым будем учить\n",
        "channelIndexes = [0,2, 4, 5, 6, 7,8]\n",
        "\n",
        "# длина теста\n",
        "valLen = 100\n",
        "# длина истории для работы\n",
        "xLen = 5\n",
        "# отступ тестов от тренировок\n",
        "bias = 10\n",
        "\n",
        "# вычисляем точку разделения ряда на тесты и тренировку\n",
        "#train_split = data_f.shape[0] - valLen - bias\n",
        "# делим\n",
        "train_data = data_f.iloc[0 : train_split - 1,channelIndexes]\n",
        "val_data = data_f.iloc[train_split+bias:,channelIndexes]\n",
        "\n"
      ],
      "execution_count": 48,
      "outputs": []
    },
    {
      "cell_type": "code",
      "metadata": {
        "id": "eXgegTh9bb_m",
        "colab_type": "code",
        "colab": {
          "base_uri": "https://localhost:8080/",
          "height": 266
        },
        "outputId": "b0f43bc5-b3f0-4614-de20-0bc22f936c98"
      },
      "source": [
        "train_data.head(7)"
      ],
      "execution_count": 49,
      "outputs": [
        {
          "output_type": "execute_result",
          "data": {
            "text/html": [
              "<div>\n",
              "<style scoped>\n",
              "    .dataframe tbody tr th:only-of-type {\n",
              "        vertical-align: middle;\n",
              "    }\n",
              "\n",
              "    .dataframe tbody tr th {\n",
              "        vertical-align: top;\n",
              "    }\n",
              "\n",
              "    .dataframe thead th {\n",
              "        text-align: right;\n",
              "    }\n",
              "</style>\n",
              "<table border=\"1\" class=\"dataframe\">\n",
              "  <thead>\n",
              "    <tr style=\"text-align: right;\">\n",
              "      <th></th>\n",
              "      <th>0</th>\n",
              "      <th>2</th>\n",
              "      <th>4</th>\n",
              "      <th>5</th>\n",
              "      <th>6</th>\n",
              "      <th>7</th>\n",
              "      <th>8</th>\n",
              "    </tr>\n",
              "  </thead>\n",
              "  <tbody>\n",
              "    <tr>\n",
              "      <th>0</th>\n",
              "      <td>-0.087636</td>\n",
              "      <td>0.59065</td>\n",
              "      <td>0.325465</td>\n",
              "      <td>0.544515</td>\n",
              "      <td>0.556913</td>\n",
              "      <td>0.499411</td>\n",
              "      <td>-1.660530</td>\n",
              "    </tr>\n",
              "    <tr>\n",
              "      <th>1</th>\n",
              "      <td>-0.447973</td>\n",
              "      <td>0.59065</td>\n",
              "      <td>0.325465</td>\n",
              "      <td>0.544515</td>\n",
              "      <td>0.556913</td>\n",
              "      <td>0.499411</td>\n",
              "      <td>-1.516070</td>\n",
              "    </tr>\n",
              "    <tr>\n",
              "      <th>2</th>\n",
              "      <td>-0.686392</td>\n",
              "      <td>0.59065</td>\n",
              "      <td>0.325465</td>\n",
              "      <td>0.544515</td>\n",
              "      <td>0.556913</td>\n",
              "      <td>0.499411</td>\n",
              "      <td>-1.371610</td>\n",
              "    </tr>\n",
              "    <tr>\n",
              "      <th>3</th>\n",
              "      <td>-0.828550</td>\n",
              "      <td>0.59065</td>\n",
              "      <td>0.325465</td>\n",
              "      <td>0.544515</td>\n",
              "      <td>0.556913</td>\n",
              "      <td>0.499411</td>\n",
              "      <td>-1.227149</td>\n",
              "    </tr>\n",
              "    <tr>\n",
              "      <th>4</th>\n",
              "      <td>-0.909192</td>\n",
              "      <td>0.59065</td>\n",
              "      <td>0.325465</td>\n",
              "      <td>0.544515</td>\n",
              "      <td>0.556913</td>\n",
              "      <td>0.499411</td>\n",
              "      <td>-1.082689</td>\n",
              "    </tr>\n",
              "    <tr>\n",
              "      <th>5</th>\n",
              "      <td>-0.861221</td>\n",
              "      <td>0.59065</td>\n",
              "      <td>0.325465</td>\n",
              "      <td>0.544515</td>\n",
              "      <td>0.556913</td>\n",
              "      <td>0.499411</td>\n",
              "      <td>-0.938229</td>\n",
              "    </tr>\n",
              "    <tr>\n",
              "      <th>6</th>\n",
              "      <td>-0.614356</td>\n",
              "      <td>0.59065</td>\n",
              "      <td>0.325465</td>\n",
              "      <td>0.544515</td>\n",
              "      <td>0.556913</td>\n",
              "      <td>0.499411</td>\n",
              "      <td>-0.793768</td>\n",
              "    </tr>\n",
              "  </tbody>\n",
              "</table>\n",
              "</div>"
            ],
            "text/plain": [
              "          0        2         4         5         6         7         8\n",
              "0 -0.087636  0.59065  0.325465  0.544515  0.556913  0.499411 -1.660530\n",
              "1 -0.447973  0.59065  0.325465  0.544515  0.556913  0.499411 -1.516070\n",
              "2 -0.686392  0.59065  0.325465  0.544515  0.556913  0.499411 -1.371610\n",
              "3 -0.828550  0.59065  0.325465  0.544515  0.556913  0.499411 -1.227149\n",
              "4 -0.909192  0.59065  0.325465  0.544515  0.556913  0.499411 -1.082689\n",
              "5 -0.861221  0.59065  0.325465  0.544515  0.556913  0.499411 -0.938229\n",
              "6 -0.614356  0.59065  0.325465  0.544515  0.556913  0.499411 -0.793768"
            ]
          },
          "metadata": {
            "tags": []
          },
          "execution_count": 49
        }
      ]
    },
    {
      "cell_type": "code",
      "metadata": {
        "id": "aOvy_z69apsr",
        "colab_type": "code",
        "colab": {}
      },
      "source": [
        "# шаг по данным для построения обучающих примеров\n",
        "step = 1\n",
        "\n",
        "# длина прошлого \n",
        "past = xLen\n",
        "p = past\n",
        "# горизонт предсказания\n",
        "future = 1\n",
        "h=future\n",
        "\n",
        "# параметры модели для обучения\n",
        "learning_rate = 0.001\n",
        "batch_size = 32\n",
        "epochs = 10\n"
      ],
      "execution_count": 50,
      "outputs": []
    },
    {
      "cell_type": "markdown",
      "metadata": {
        "id": "iahymtOkqZwr",
        "colab_type": "text"
      },
      "source": [
        "Выделяем части на обучение и проверку"
      ]
    },
    {
      "cell_type": "code",
      "metadata": {
        "id": "25s4AHlvYD3g",
        "colab_type": "code",
        "colab": {}
      },
      "source": [
        "start = xLen + future\n",
        "end = start + train_split-1\n",
        "\n",
        "xTrain = train_data[[train_data.columns[i] for i in range(7)]].values\n",
        "yTrain = data_f.iloc[start:end,0].values\n",
        "\n",
        "sequence_length = int(xLen / step)\n",
        "\n",
        "\n",
        "x_end = len(val_data) - xLen - future\n",
        "\n",
        "label_start = len(train_data)+bias+xLen + future\n",
        "\n",
        "xVal = val_data.iloc[:x_end+1][[val_data.columns[i] for i in range(7)]].values\n",
        "yVal = data_f.iloc[label_start:,0].values\n"
      ],
      "execution_count": 51,
      "outputs": []
    },
    {
      "cell_type": "code",
      "metadata": {
        "id": "ALCr3lKPc3CR",
        "colab_type": "code",
        "colab": {
          "base_uri": "https://localhost:8080/",
          "height": 85
        },
        "outputId": "efd978f9-7708-4896-b39b-ef9f330a9bca"
      },
      "source": [
        "print(xTrain.shape)\n",
        "\n",
        "print(yTrain.shape)\n",
        "\n",
        "\n",
        "print(xVal.shape)\n",
        "\n",
        "print(yVal.shape)"
      ],
      "execution_count": 52,
      "outputs": [
        {
          "output_type": "stream",
          "text": [
            "(20999, 7)\n",
            "(20999,)\n",
            "(4359, 7)\n",
            "(4359,)\n"
          ],
          "name": "stdout"
        }
      ]
    },
    {
      "cell_type": "code",
      "metadata": {
        "id": "8KQIT2AfJ87P",
        "colab_type": "code",
        "colab": {
          "base_uri": "https://localhost:8080/",
          "height": 350
        },
        "outputId": "14d9c7e8-0b3e-4d30-cce1-5ea4dadce922"
      },
      "source": [
        "plt.figure(figsize=(10,5))\n",
        "plt.plot(data_f.index[xLen:yTrain.shape[0]+xLen],yTrain[:])\n",
        "plt.plot(data_f.index[yTrain.shape[0]+xLen+bias+future:],yVal[:])\n",
        "plt.grid('on')\n",
        "plt.xlabel('t, дни')\n",
        "plt.ylabel('$')\n",
        "plt.title('стоимость BRENT в 2010-2018')\n",
        "plt.show()"
      ],
      "execution_count": 53,
      "outputs": [
        {
          "output_type": "display_data",
          "data": {
            "image/png": "[encoded data removed]",
            "text/plain": [
              "<Figure size 720x360 with 1 Axes>"
            ]
          },
          "metadata": {
            "tags": [],
            "needs_background": "light"
          }
        }
      ]
    },
    {
      "cell_type": "code",
      "metadata": {
        "id": "VhuQwds5dJh7",
        "colab_type": "code",
        "colab": {}
      },
      "source": [
        "dataset_train = keras.preprocessing.timeseries_dataset_from_array(\n",
        "    xTrain,\n",
        "    yTrain,\n",
        "    sequence_length=xLen,\n",
        "    sampling_rate=1,\n",
        "    batch_size=batch_size,\n",
        ")\n",
        "dataset_val = keras.preprocessing.timeseries_dataset_from_array(\n",
        "    xVal,\n",
        "    yVal,\n",
        "    sequence_length=xLen,\n",
        "    sampling_rate=1,\n",
        "    batch_size=batch_size,\n",
        ")\n"
      ],
      "execution_count": 54,
      "outputs": []
    },
    {
      "cell_type": "code",
      "metadata": {
        "id": "BZCByXmRgpVQ",
        "colab_type": "code",
        "colab": {
          "base_uri": "https://localhost:8080/",
          "height": 51
        },
        "outputId": "7e467a07-3f0c-4aab-b060-a16a2d0daf06"
      },
      "source": [
        "for batch in dataset_train.take(2):\n",
        "    inputs, targets = batch\n",
        "\n",
        "print(\"Input shape:\", inputs.numpy().shape)\n",
        "print(\"Target shape:\", targets.numpy().shape)"
      ],
      "execution_count": 55,
      "outputs": [
        {
          "output_type": "stream",
          "text": [
            "Input shape: (32, 5, 7)\n",
            "Target shape: (32,)\n"
          ],
          "name": "stdout"
        }
      ]
    },
    {
      "cell_type": "code",
      "metadata": {
        "id": "9xiFCpgxqsES",
        "colab_type": "code",
        "colab": {
          "base_uri": "https://localhost:8080/",
          "height": 34
        },
        "outputId": "14c60609-f00a-4151-f83b-5b4307a65d60"
      },
      "source": [
        "inputs[2,:,0]"
      ],
      "execution_count": 56,
      "outputs": [
        {
          "output_type": "execute_result",
          "data": {
            "text/plain": [
              "<tf.Tensor: shape=(5,), dtype=float64, numpy=array([-0.18883671,  0.03061651,  0.17213754,  0.23827631,  0.24465113])>"
            ]
          },
          "metadata": {
            "tags": []
          },
          "execution_count": 56
        }
      ]
    },
    {
      "cell_type": "code",
      "metadata": {
        "id": "NPeJ6pOirP1X",
        "colab_type": "code",
        "colab": {
          "base_uri": "https://localhost:8080/",
          "height": 34
        },
        "outputId": "dcf8333a-de7e-49af-92c4-5f2234893f4a"
      },
      "source": [
        "targets[0]"
      ],
      "execution_count": 57,
      "outputs": [
        {
          "output_type": "execute_result",
          "data": {
            "text/plain": [
              "<tf.Tensor: shape=(), dtype=float64, numpy=0.244651126332399>"
            ]
          },
          "metadata": {
            "tags": []
          },
          "execution_count": 57
        }
      ]
    },
    {
      "cell_type": "markdown",
      "metadata": {
        "id": "qE_vmenqkqCp",
        "colab_type": "text"
      },
      "source": [
        "**сеть:  LSTM слои+Conv1D +Dense слой.**"
      ]
    },
    {
      "cell_type": "code",
      "metadata": {
        "id": "JHXhRpxJg5Fq",
        "colab_type": "code",
        "colab": {
          "base_uri": "https://localhost:8080/",
          "height": 605
        },
        "outputId": "fdcabe87-7183-4821-96cd-1b167bff96da"
      },
      "source": [
        "callback = EarlyStopping(monitor='val_mae', patience=5)\n",
        "\n",
        "model = Sequential()\n",
        "\n",
        "model.add(LSTM(64, input_shape = (inputs.shape[1], inputs.shape[2]), return_sequences=\"True\"))\n",
        "model.add(LSTM(32, return_sequences=\"True\"))\n",
        "model.add(Conv1D(128, 3, activation=\"linear\"))\n",
        "model.add(Conv1D(64, 3, activation=\"linear\"))\n",
        "model.add(Flatten())\n",
        "model.add(Dense(3, activation=\"linear\"))\n",
        "model.add(Dense(1, activation=\"linear\"))\n",
        "\n",
        "model.compile(loss=\"mse\", optimizer=\"adam\", metrics=['mae'])\n",
        "\n",
        "history = model.fit(\n",
        "    dataset_train,\n",
        "    epochs=epochs,\n",
        "    validation_data=dataset_val,\n",
        "    callbacks=[callback])\n",
        "\n",
        "\n",
        "plt.plot(history.history['mae'][1:], \n",
        "         label='Средняя абсолютная ошибка на обучающем наборе')\n",
        "plt.plot(history.history['val_mae'][1:], \n",
        "         label='Средняя абсолютная ошибка на проверочном наборе')\n",
        "plt.ylabel('Средняя ошибка')\n",
        "plt.legend()\n",
        "plt.show()"
      ],
      "execution_count": 75,
      "outputs": [
        {
          "output_type": "stream",
          "text": [
            "Epoch 1/10\n",
            "657/657 [==============================] - 7s 11ms/step - loss: 0.1653 - mae: 0.3131 - val_loss: 0.1194 - val_mae: 0.2727\n",
            "Epoch 2/10\n",
            "657/657 [==============================] - 6s 10ms/step - loss: 0.0764 - mae: 0.2126 - val_loss: 0.0797 - val_mae: 0.2189\n",
            "Epoch 3/10\n",
            "657/657 [==============================] - 6s 9ms/step - loss: 0.0417 - mae: 0.1571 - val_loss: 0.0874 - val_mae: 0.2307\n",
            "Epoch 4/10\n",
            "657/657 [==============================] - 7s 10ms/step - loss: 0.0348 - mae: 0.1433 - val_loss: 0.0603 - val_mae: 0.1916\n",
            "Epoch 5/10\n",
            "657/657 [==============================] - 7s 10ms/step - loss: 0.0297 - mae: 0.1317 - val_loss: 0.0474 - val_mae: 0.1712\n",
            "Epoch 6/10\n",
            "657/657 [==============================] - 6s 9ms/step - loss: 0.0261 - mae: 0.1229 - val_loss: 0.0508 - val_mae: 0.1759\n",
            "Epoch 7/10\n",
            "657/657 [==============================] - 6s 10ms/step - loss: 0.0241 - mae: 0.1183 - val_loss: 0.0489 - val_mae: 0.1719\n",
            "Epoch 8/10\n",
            "657/657 [==============================] - 6s 9ms/step - loss: 0.0223 - mae: 0.1139 - val_loss: 0.0483 - val_mae: 0.1703\n",
            "Epoch 9/10\n",
            "657/657 [==============================] - 6s 10ms/step - loss: 0.0212 - mae: 0.1109 - val_loss: 0.0463 - val_mae: 0.1663\n",
            "Epoch 10/10\n",
            "657/657 [==============================] - 6s 9ms/step - loss: 0.0198 - mae: 0.1072 - val_loss: 0.0447 - val_mae: 0.1631\n"
          ],
          "name": "stdout"
        },
        {
          "output_type": "display_data",
          "data": {
            "image/png": "[encoded data removed]",
            "text/plain": [
              "<Figure size 432x288 with 1 Axes>"
            ]
          },
          "metadata": {
            "tags": [],
            "needs_background": "light"
          }
        }
      ]
    },
    {
      "cell_type": "markdown",
      "metadata": {
        "id": "sTVYH8bynCXK",
        "colab_type": "text"
      },
      "source": [
        "Проверяем результаты:\n",
        "\n",
        "- строим предсказание\n",
        "- рисуем прогноз для тестовой части \n",
        "- рисуем прогноз по тренировочной части"
      ]
    },
    {
      "cell_type": "code",
      "metadata": {
        "id": "wuKT4O2WjZiQ",
        "colab_type": "code",
        "colab": {}
      },
      "source": [
        "pred = model.predict(dataset_train).flatten()\n",
        "predVal = model.predict(dataset_val).flatten()"
      ],
      "execution_count": 71,
      "outputs": []
    },
    {
      "cell_type": "code",
      "metadata": {
        "id": "-zt0cYfzllLW",
        "colab_type": "code",
        "colab": {
          "base_uri": "https://localhost:8080/",
          "height": 334
        },
        "outputId": "2691220c-8e9d-4ede-8636-6e7fd6ae97b8"
      },
      "source": [
        "start = 0\n",
        "step = 50\n",
        "plt.figure(figsize=(10,5))\n",
        "plt.grid('on')\n",
        "plt.plot(predVal[h+start:h+start+step], \n",
        "         label='Прогноз')\n",
        "plt.plot(yVal.flatten()[start:start+step], \n",
        "         label='Базовый ряд')\n",
        "plt.xlabel('Время')\n",
        "plt.ylabel('Значение ')\n",
        "\n",
        "plt.legend()\n",
        "plt.show()"
      ],
      "execution_count": 72,
      "outputs": [
        {
          "output_type": "display_data",
          "data": {
            "image/png": "[encoded data removed]",
            "text/plain": [
              "<Figure size 720x360 with 1 Axes>"
            ]
          },
          "metadata": {
            "tags": [],
            "needs_background": "light"
          }
        }
      ]
    },
    {
      "cell_type": "code",
      "metadata": {
        "id": "O0EVYFpTluiY",
        "colab_type": "code",
        "colab": {
          "base_uri": "https://localhost:8080/",
          "height": 334
        },
        "outputId": "fe02ad6e-d743-4d10-a03a-0753f21d2fb6"
      },
      "source": [
        "start = 0\n",
        "\n",
        "\n",
        "plt.figure(figsize=(10,5))\n",
        "plt.grid('on')\n",
        "plt.plot(pred[h+start:h+train_split], \n",
        "         label='Прогноз')\n",
        "plt.plot(yTrain.flatten()[start:train_split], \n",
        "         label='Базовый ряд')\n",
        "plt.xlabel('Время')\n",
        "plt.ylabel('Значение Close')\n",
        "plt.legend()\n",
        "plt.show()"
      ],
      "execution_count": 61,
      "outputs": [
        {
          "output_type": "display_data",
          "data": {
            "image/png": "[encoded data removed]",
            "text/plain": [
              "<Figure size 720x360 with 1 Axes>"
            ]
          },
          "metadata": {
            "tags": [],
            "needs_background": "light"
          }
        }
      ]
    },
    {
      "cell_type": "markdown",
      "metadata": {
        "id": "U3gW5SKunYaC",
        "colab_type": "text"
      },
      "source": [
        "Проверяем качество модели"
      ]
    },
    {
      "cell_type": "code",
      "metadata": {
        "id": "0fB0f5GncVkc",
        "colab_type": "code",
        "colab": {}
      },
      "source": [
        "def correlate(a, b):\n",
        "  ma = a.mean()\n",
        "  mb = b.mean()\n",
        "  mab = (a*b).mean()\n",
        "  sa = a.std()\n",
        "  sb = b.std()\n",
        "  \n",
        "  val = 0\n",
        "  if ((sa>0) & (sb>0)):\n",
        "    val = (mab-ma*mb)/(sa*sb)\n",
        "  return val"
      ],
      "execution_count": 73,
      "outputs": []
    },
    {
      "cell_type": "code",
      "metadata": {
        "id": "HbW-tefen8Qz",
        "colab_type": "code",
        "colab": {
          "base_uri": "https://localhost:8080/",
          "height": 279
        },
        "outputId": "76dc3a92-cec2-4f07-c131-065bfbf9c993"
      },
      "source": [
        "corr = []\n",
        "start = 0\n",
        "step = 50\n",
        "yLen = yVal.shape[0]\n",
        "yValF = yVal[start:start+step].flatten()\n",
        "yPredVal = predVal[h+start:start+step+h]\n",
        "for i in range(1,20):\n",
        "  corr.append(correlate(yValF[:-i], yPredVal[i:]))\n",
        "  \n",
        "plt.plot(corr, \n",
        "         label='Корреляция')\n",
        "plt.xlabel('Время')\n",
        "plt.ylabel('Значение Close')\n",
        "plt.legend()\n",
        "plt.show()"
      ],
      "execution_count": 74,
      "outputs": [
        {
          "output_type": "display_data",
          "data": {
            "image/png": "[encoded data removed]",
            "text/plain": [
              "<Figure size 432x288 with 1 Axes>"
            ]
          },
          "metadata": {
            "tags": [],
            "needs_background": "light"
          }
        }
      ]
    },
    {
      "cell_type": "code",
      "metadata": {
        "id": "KoN78Mzzzbke",
        "colab_type": "code",
        "colab": {
          "base_uri": "https://localhost:8080/",
          "height": 340
        },
        "outputId": "53112950-31fd-4ee9-a231-e00c591b5b6f"
      },
      "source": [
        "corr"
      ],
      "execution_count": 64,
      "outputs": [
        {
          "output_type": "execute_result",
          "data": {
            "text/plain": [
              "[0.7024755570284751,\n",
              " 0.5327945336703155,\n",
              " 0.3729958339372238,\n",
              " 0.25310974951054555,\n",
              " 0.19361253866785974,\n",
              " 0.19749553880713536,\n",
              " 0.25125599025069145,\n",
              " 0.3532840953052946,\n",
              " 0.49104716261053344,\n",
              " 0.6249964859130833,\n",
              " 0.6954786740040557,\n",
              " 0.6735249003288951,\n",
              " 0.5564118568735441,\n",
              " 0.3841030131183628,\n",
              " 0.22498347719805564,\n",
              " 0.11090402740747407,\n",
              " 0.06518610759386398,\n",
              " 0.08688539374108664,\n",
              " 0.17745361897242568]"
            ]
          },
          "metadata": {
            "tags": []
          },
          "execution_count": 64
        }
      ]
    },
    {
      "cell_type": "code",
      "metadata": {
        "id": "uZUNXcHBlBAG",
        "colab_type": "code",
        "colab": {}
      },
      "source": [
        ""
      ],
      "execution_count": null,
      "outputs": []
    }
  ]
}