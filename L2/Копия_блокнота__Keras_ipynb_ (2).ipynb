{
  "nbformat": 4,
  "nbformat_minor": 0,
  "metadata": {
    "colab": {
      "name": "Копия блокнота \"Keras.ipynb\"",
      "provenance": [],
      "collapsed_sections": []
    },
    "kernelspec": {
      "display_name": "Python 3",
      "language": "python",
      "name": "python3"
    },
    "language_info": {
      "codemirror_mode": {
        "name": "ipython",
        "version": 3
      },
      "file_extension": ".py",
      "mimetype": "text/x-python",
      "name": "python",
      "nbconvert_exporter": "python",
      "pygments_lexer": "ipython3",
      "version": "3.8.3"
    }
  },
  "cells": [
    {
      "cell_type": "markdown",
      "metadata": {
        "colab_type": "text",
        "id": "XvhEhpGm9U8z"
      },
      "source": [
        "# Введение в искусственные нейронные сети\n",
        "# Урок 2. Keras"
      ]
    },
    {
      "cell_type": "markdown",
      "metadata": {
        "colab_type": "text",
        "id": "jnUt9U3_9U9x"
      },
      "source": [
        "## Простая нейросеть на Keras"
      ]
    },
    {
      "cell_type": "markdown",
      "metadata": {
        "colab_type": "text",
        "id": "SAa_Lfn89U9y"
      },
      "source": [
        "Давайте попрубуем сделать нейросеть на Keras использую полученные выше знания. Попробуем обучить нейросеть различать рукописные цифры."
      ]
    },
    {
      "cell_type": "code",
      "metadata": {
        "colab_type": "code",
        "id": "hf6f_oe7EH7A",
        "colab": {}
      },
      "source": [
        "# The full neural network code!\n",
        "###############################\n",
        "import numpy as np\n",
        "#import mnist\n",
        "from keras.models import Sequential\n",
        "from keras.layers import Dense\n",
        "from keras.utils import to_categorical\n",
        "from keras.datasets import fashion_mnist\n"
      ],
      "execution_count": null,
      "outputs": []
    },
    {
      "cell_type": "code",
      "metadata": {
        "id": "4psQbF9mEkvw",
        "colab_type": "code",
        "colab": {}
      },
      "source": [
        "summary=[]"
      ],
      "execution_count": null,
      "outputs": []
    },
    {
      "cell_type": "code",
      "metadata": {
        "colab_type": "code",
        "id": "hFo1_J0eEQ9k",
        "colab": {}
      },
      "source": [
        "\n",
        "(train_images,train_labels),(test_images,test_labels)=fashion_mnist.load_data()\n",
        "\n",
        "#train_images = mnist.train_images()\n",
        "#train_labels = mnist.train_labels()\n",
        "#test_images = mnist.test_images()\n",
        "#test_labels = mnist.test_labels()\n",
        "\n",
        "# Normalize the images.\n",
        "train_images = (train_images / 255) \n",
        "test_images = (test_images / 255) \n",
        "\n",
        "# Flatten the images.\n",
        "train_images = train_images.reshape((-1, 784))\n",
        "test_images = test_images.reshape((-1, 784))"
      ],
      "execution_count": null,
      "outputs": []
    },
    {
      "cell_type": "code",
      "metadata": {
        "colab_type": "code",
        "id": "vT7VLh_SEcZS",
        "colab": {}
      },
      "source": [
        "\n",
        "# Build the model.\n",
        "model = Sequential([\n",
        "  Dense(128, activation='relu', input_shape=(784,)),\n",
        "  \n",
        "  Dense(64, activation='relu'),\n",
        "  Dense(10, activation='softmax'),\n",
        "])\n",
        "\n",
        "# Compile the model.\n",
        "model.compile(\n",
        "  optimizer='adam',\n",
        "  loss='kl_divergence',\n",
        "  metrics=['accuracy'],\n",
        ")"
      ],
      "execution_count": null,
      "outputs": []
    },
    {
      "cell_type": "code",
      "metadata": {
        "colab_type": "code",
        "id": "9lCF4zXv9U90",
        "colab": {
          "base_uri": "https://localhost:8080/",
          "height": 275
        },
        "outputId": "64b0fc8e-72d4-4471-c278-ee400c68d40a"
      },
      "source": [
        "\n",
        "# Train the model.\n",
        "model.fit(\n",
        "  train_images,\n",
        "  to_categorical(train_labels),\n",
        "  epochs=5,\n",
        "  batch_size=64,\n",
        ")\n",
        "\n",
        "# Evaluate the model.\n",
        "result=model.evaluate(\n",
        "  test_images,\n",
        "  to_categorical(test_labels)\n",
        ")\n",
        "\n",
        "# Predict on the first 5 test images.\n",
        "predictions = model.predict(test_images[:5])\n",
        "\n",
        "# Print our model's predictions.\n",
        "print(np.argmax(predictions, axis=1)) # \n",
        "\n",
        "# Check our predictions against the ground truths.\n",
        "print(test_labels[:5]) # "
      ],
      "execution_count": null,
      "outputs": [
        {
          "output_type": "stream",
          "text": [
            "Epoch 1/5\n",
            "938/938 [==============================] - 3s 3ms/step - loss: 0.5185 - accuracy: 0.8167\n",
            "Epoch 2/5\n",
            "938/938 [==============================] - 3s 3ms/step - loss: 0.3740 - accuracy: 0.8642\n",
            "Epoch 3/5\n",
            "938/938 [==============================] - 3s 3ms/step - loss: 0.3327 - accuracy: 0.8781\n",
            "Epoch 4/5\n",
            "938/938 [==============================] - 3s 3ms/step - loss: 0.3097 - accuracy: 0.8860\n",
            "Epoch 5/5\n",
            "938/938 [==============================] - 3s 3ms/step - loss: 0.2923 - accuracy: 0.8932\n",
            "313/313 [==============================] - 0s 1ms/step - loss: 0.3420 - accuracy: 0.8751\n",
            "WARNING:tensorflow:10 out of the last 11 calls to <function Model.make_predict_function.<locals>.predict_function at 0x7f59219e82f0> triggered tf.function retracing. Tracing is expensive and the excessive number of tracings could be due to (1) creating @tf.function repeatedly in a loop, (2) passing tensors with different shapes, (3) passing Python objects instead of tensors. For (1), please define your @tf.function outside of the loop. For (2), @tf.function has experimental_relax_shapes=True option that relaxes argument shapes that can avoid unnecessary retracing. For (3), please refer to https://www.tensorflow.org/tutorials/customization/performance#python_or_tensor_args and https://www.tensorflow.org/api_docs/python/tf/function for  more details.\n",
            "[9 2 1 1 6]\n",
            "[9 2 1 1 6]\n"
          ],
          "name": "stdout"
        }
      ]
    },
    {
      "cell_type": "code",
      "metadata": {
        "id": "XpKGTuoK8989",
        "colab_type": "code",
        "colab": {}
      },
      "source": [
        "summary.append(['Сеть : 3 слоя (128,64,10), loss=kl_divergence, activation=relu, batch_size=16, ',f'Accuracy:  {result[1]}'])"
      ],
      "execution_count": null,
      "outputs": []
    },
    {
      "cell_type": "code",
      "metadata": {
        "id": "42NBk817GUy3",
        "colab_type": "code",
        "colab": {
          "base_uri": "https://localhost:8080/",
          "height": 323
        },
        "outputId": "bafaf79e-5db3-4c8e-e26f-aff75fbf3d7f"
      },
      "source": [
        "summary"
      ],
      "execution_count": null,
      "outputs": [
        {
          "output_type": "execute_result",
          "data": {
            "text/plain": [
              "[['Сеть : 3 слоя (64,64,10), loss=categorical_crossentropy, activation=relu, ',\n",
              "  'Accuracy:  0.8671000003814697'],\n",
              " ['Сеть : 3 слоя (128,64,10), loss=categorical_crossentropy, activation=relu, ',\n",
              "  'Accuracy:  0.8754000067710876'],\n",
              " ['Сеть : 3 слоя (256,64,10), loss=categorical_crossentropy, activation=relu, ',\n",
              "  'Accuracy:  0.8705000281333923'],\n",
              " ['Сеть : 3 слоя (256,64,10), loss=kl_divergence, activation=relu, ',\n",
              "  'Accuracy:  0.8766999840736389'],\n",
              " ['Сеть : 3 слоя (128,64,10), loss=kl_divergence, activation=relu, ',\n",
              "  'Accuracy:  0.8805000185966492'],\n",
              " ['Сеть : 3 слоя (128,64,10), loss=kl_divergence, activation=sigmoid , ',\n",
              "  'Accuracy:  0.871399998664856'],\n",
              " ['Сеть : 4 слоя (256,128,64,10), loss=kl_divergence, activation=sigmoid , ',\n",
              "  'Accuracy:  0.8715000152587891'],\n",
              " ['Сеть : 3 слоя (128,64,10), loss=kl_divergence, activation=relu, batch_size=16, ',\n",
              "  'Accuracy:  0.8719000220298767'],\n",
              " ['Сеть : 3 слоя (128,64,10), loss=kl_divergence, activation=relu, batch_size=16, ',\n",
              "  'Accuracy:  0.8751000165939331']]"
            ]
          },
          "metadata": {
            "tags": []
          },
          "execution_count": 65
        }
      ]
    },
    {
      "cell_type": "markdown",
      "metadata": {
        "colab_type": "text",
        "id": "NRSQbmXD9U98"
      },
      "source": [
        "## Практическое задание\n",
        "\n",
        "<ol>\n",
        "    <li>Попробуйте обучить нейронную сеть на Keras на Fashion-MNIST датасете. \n",
        "        Опишите в комментарии к уроку - какой результата вы добились от нейросети? Что помогло вам улучшить ее точность?</li>\n",
        "</ol>"
      ]
    },
    {
      "cell_type": "markdown",
      "metadata": {
        "id": "iW81Ap6kLs5N",
        "colab_type": "text"
      },
      "source": [
        "Лучший результат accuracy: 0.88. Улучшить результат по отношению к нейросети с урока помогла смена меры ошибки на kl_divergence. Активационная функция прироста не дала, добавление одного слоя нейронов сделало расчеты сложнее, но не дало прироста в качестве. Изменение кол-ва нейронов в 1 слое до 128 дало прирост качества.\n",
        "\n"
      ]
    },
    {
      "cell_type": "markdown",
      "metadata": {
        "colab_type": "text",
        "id": "m2wW13WB9U99"
      },
      "source": [
        "## Дополнительные материалы\n",
        "\n",
        "<ol>\n",
        "    <li>https://keras.io/</li>\n",
        "</ol>"
      ]
    },
    {
      "cell_type": "markdown",
      "metadata": {
        "colab_type": "text",
        "id": "v6h1K5ET9U9_"
      },
      "source": [
        "## Используемая литература \n",
        "\n",
        "Для подготовки данного методического пособия были использованы следующие ресурсы:\n",
        "<ol>\n",
        "    <li>https://keras.io/</li>\n",
        "    <li>Шакла Н. — Машинное обучение и TensorFlow 2019</li>\n",
        "    <li>Википедия</li>\n",
        "    \n",
        "</ol>"
      ]
    },
    {
      "cell_type": "code",
      "metadata": {
        "colab_type": "code",
        "id": "TZa4ediT9U-B",
        "colab": {}
      },
      "source": [
        ""
      ],
      "execution_count": null,
      "outputs": []
    }
  ]
}